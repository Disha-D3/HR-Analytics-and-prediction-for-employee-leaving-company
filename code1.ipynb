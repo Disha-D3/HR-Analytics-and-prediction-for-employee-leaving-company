{
 "cells": [
  {
   "cell_type": "code",
   "execution_count": 26,
   "id": "6f84cbd7",
   "metadata": {},
   "outputs": [],
   "source": [
    "import pandas as pd\n",
    "import matplotlib.pyplot as plt\n",
    "import seaborn as sns\n",
    "from sklearn import preprocessing\n",
    "from sklearn.linear_model import LinearRegression\n",
    "#from fancyimpute import IterativeImputer\n",
    "from sklearn.model_selection import train_test_split"
   ]
  },
  {
   "cell_type": "code",
   "execution_count": 27,
   "id": "6c215f46",
   "metadata": {},
   "outputs": [],
   "source": [
    "from sklearn.experimental import enable_iterative_imputer\n",
    "from sklearn.impute import IterativeImputer"
   ]
  },
  {
   "cell_type": "code",
   "execution_count": 28,
   "id": "6ebd90b8",
   "metadata": {},
   "outputs": [
    {
     "name": "stdout",
     "output_type": "stream",
     "text": [
      "(19158, 14)\n"
     ]
    },
    {
     "data": {
      "text/html": [
       "<div>\n",
       "<style scoped>\n",
       "    .dataframe tbody tr th:only-of-type {\n",
       "        vertical-align: middle;\n",
       "    }\n",
       "\n",
       "    .dataframe tbody tr th {\n",
       "        vertical-align: top;\n",
       "    }\n",
       "\n",
       "    .dataframe thead th {\n",
       "        text-align: right;\n",
       "    }\n",
       "</style>\n",
       "<table border=\"1\" class=\"dataframe\">\n",
       "  <thead>\n",
       "    <tr style=\"text-align: right;\">\n",
       "      <th></th>\n",
       "      <th>enrollee_id</th>\n",
       "      <th>city</th>\n",
       "      <th>city_development_index</th>\n",
       "      <th>gender</th>\n",
       "      <th>relevent_experience</th>\n",
       "      <th>enrolled_university</th>\n",
       "      <th>education_level</th>\n",
       "      <th>major_discipline</th>\n",
       "      <th>experience</th>\n",
       "      <th>company_size</th>\n",
       "      <th>company_type</th>\n",
       "      <th>last_new_job</th>\n",
       "      <th>training_hours</th>\n",
       "      <th>target</th>\n",
       "    </tr>\n",
       "  </thead>\n",
       "  <tbody>\n",
       "    <tr>\n",
       "      <th>0</th>\n",
       "      <td>8949</td>\n",
       "      <td>city_103</td>\n",
       "      <td>0.920</td>\n",
       "      <td>Male</td>\n",
       "      <td>Has relevent experience</td>\n",
       "      <td>no_enrollment</td>\n",
       "      <td>Graduate</td>\n",
       "      <td>STEM</td>\n",
       "      <td>&gt;20</td>\n",
       "      <td>NaN</td>\n",
       "      <td>NaN</td>\n",
       "      <td>1</td>\n",
       "      <td>36</td>\n",
       "      <td>1.0</td>\n",
       "    </tr>\n",
       "    <tr>\n",
       "      <th>1</th>\n",
       "      <td>29725</td>\n",
       "      <td>city_40</td>\n",
       "      <td>0.776</td>\n",
       "      <td>Male</td>\n",
       "      <td>No relevent experience</td>\n",
       "      <td>no_enrollment</td>\n",
       "      <td>Graduate</td>\n",
       "      <td>STEM</td>\n",
       "      <td>15</td>\n",
       "      <td>50-99</td>\n",
       "      <td>Pvt Ltd</td>\n",
       "      <td>&gt;4</td>\n",
       "      <td>47</td>\n",
       "      <td>0.0</td>\n",
       "    </tr>\n",
       "    <tr>\n",
       "      <th>2</th>\n",
       "      <td>11561</td>\n",
       "      <td>city_21</td>\n",
       "      <td>0.624</td>\n",
       "      <td>NaN</td>\n",
       "      <td>No relevent experience</td>\n",
       "      <td>Full time course</td>\n",
       "      <td>Graduate</td>\n",
       "      <td>STEM</td>\n",
       "      <td>5</td>\n",
       "      <td>NaN</td>\n",
       "      <td>NaN</td>\n",
       "      <td>never</td>\n",
       "      <td>83</td>\n",
       "      <td>0.0</td>\n",
       "    </tr>\n",
       "    <tr>\n",
       "      <th>3</th>\n",
       "      <td>33241</td>\n",
       "      <td>city_115</td>\n",
       "      <td>0.789</td>\n",
       "      <td>NaN</td>\n",
       "      <td>No relevent experience</td>\n",
       "      <td>NaN</td>\n",
       "      <td>Graduate</td>\n",
       "      <td>Business Degree</td>\n",
       "      <td>&lt;1</td>\n",
       "      <td>NaN</td>\n",
       "      <td>Pvt Ltd</td>\n",
       "      <td>never</td>\n",
       "      <td>52</td>\n",
       "      <td>1.0</td>\n",
       "    </tr>\n",
       "    <tr>\n",
       "      <th>4</th>\n",
       "      <td>666</td>\n",
       "      <td>city_162</td>\n",
       "      <td>0.767</td>\n",
       "      <td>Male</td>\n",
       "      <td>Has relevent experience</td>\n",
       "      <td>no_enrollment</td>\n",
       "      <td>Masters</td>\n",
       "      <td>STEM</td>\n",
       "      <td>&gt;20</td>\n",
       "      <td>50-99</td>\n",
       "      <td>Funded Startup</td>\n",
       "      <td>4</td>\n",
       "      <td>8</td>\n",
       "      <td>0.0</td>\n",
       "    </tr>\n",
       "  </tbody>\n",
       "</table>\n",
       "</div>"
      ],
      "text/plain": [
       "   enrollee_id      city  city_development_index gender  \\\n",
       "0         8949  city_103                   0.920   Male   \n",
       "1        29725   city_40                   0.776   Male   \n",
       "2        11561   city_21                   0.624    NaN   \n",
       "3        33241  city_115                   0.789    NaN   \n",
       "4          666  city_162                   0.767   Male   \n",
       "\n",
       "       relevent_experience enrolled_university education_level  \\\n",
       "0  Has relevent experience       no_enrollment        Graduate   \n",
       "1   No relevent experience       no_enrollment        Graduate   \n",
       "2   No relevent experience    Full time course        Graduate   \n",
       "3   No relevent experience                 NaN        Graduate   \n",
       "4  Has relevent experience       no_enrollment         Masters   \n",
       "\n",
       "  major_discipline experience company_size    company_type last_new_job  \\\n",
       "0             STEM        >20          NaN             NaN            1   \n",
       "1             STEM         15        50-99         Pvt Ltd           >4   \n",
       "2             STEM          5          NaN             NaN        never   \n",
       "3  Business Degree         <1          NaN         Pvt Ltd        never   \n",
       "4             STEM        >20        50-99  Funded Startup            4   \n",
       "\n",
       "   training_hours  target  \n",
       "0              36     1.0  \n",
       "1              47     0.0  \n",
       "2              83     0.0  \n",
       "3              52     1.0  \n",
       "4               8     0.0  "
      ]
     },
     "execution_count": 28,
     "metadata": {},
     "output_type": "execute_result"
    }
   ],
   "source": [
    "data=pd.read_csv('aug.csv',index_col=False)\n",
    "print(data.shape)\n",
    "data.head()"
   ]
  },
  {
   "cell_type": "code",
   "execution_count": 29,
   "id": "2374380e",
   "metadata": {
    "scrolled": true
   },
   "outputs": [
    {
     "data": {
      "text/plain": [
       "enrollee_id                  0\n",
       "city                         0\n",
       "city_development_index       0\n",
       "gender                    4508\n",
       "relevent_experience          0\n",
       "enrolled_university        386\n",
       "education_level            460\n",
       "major_discipline          2813\n",
       "experience                  65\n",
       "company_size              5938\n",
       "company_type              6140\n",
       "last_new_job               423\n",
       "training_hours               0\n",
       "target                       0\n",
       "dtype: int64"
      ]
     },
     "execution_count": 29,
     "metadata": {},
     "output_type": "execute_result"
    }
   ],
   "source": [
    "data.isna().sum()"
   ]
  },
  {
   "cell_type": "code",
   "execution_count": 30,
   "id": "0541b520",
   "metadata": {},
   "outputs": [
    {
     "data": {
      "text/plain": [
       "<AxesSubplot:xlabel='target', ylabel='count'>"
      ]
     },
     "execution_count": 30,
     "metadata": {},
     "output_type": "execute_result"
    },
    {
     "data": {
      "image/png": "[encoded data removed]",
      "text/plain": [
       "<Figure size 432x288 with 1 Axes>"
      ]
     },
     "metadata": {
      "needs_background": "light"
     },
     "output_type": "display_data"
    }
   ],
   "source": [
    "sns.countplot(x='target',data=data)"
   ]
  },
  {
   "cell_type": "code",
   "execution_count": 31,
   "id": "d85bffb3",
   "metadata": {},
   "outputs": [
    {
     "name": "stdout",
     "output_type": "stream",
     "text": [
      "People looking for job: 24.934753105752165\n",
      "People not looking for job: 75.06524689424784\n"
     ]
    }
   ],
   "source": [
    "print('People looking for job:',(len(data[data['target']==1])/len(data['target']))*100)\n",
    "print('People not looking for job:',(len(data[data['target']==0])/len(data['target']))*100)"
   ]
  },
  {
   "cell_type": "markdown",
   "id": "29e0b7c9",
   "metadata": {},
   "source": [
    "Above figures show that data is imbalanced"
   ]
  },
  {
   "cell_type": "code",
   "execution_count": 32,
   "id": "399da5a7",
   "metadata": {},
   "outputs": [
    {
     "data": {
      "text/plain": [
       "<AxesSubplot:xlabel='gender', ylabel='major_discipline'>"
      ]
     },
     "execution_count": 32,
     "metadata": {},
     "output_type": "execute_result"
    },
    {
     "data": {
      "image/png": "[encoded data removed]",
      "text/plain": [
       "<Figure size 432x288 with 1 Axes>"
      ]
     },
     "metadata": {
      "needs_background": "light"
     },
     "output_type": "display_data"
    }
   ],
   "source": [
    "sns.scatterplot(x='gender',y='major_discipline',hue='target',data=data)"
   ]
  },
  {
   "cell_type": "markdown",
   "id": "e059a9f7",
   "metadata": {},
   "source": [
    "Male population in the disciplene of 'Humanities',female population with no major and other population with arts and humanities major are looking for a job change"
   ]
  },
  {
   "cell_type": "code",
   "execution_count": 33,
   "id": "87786b35",
   "metadata": {},
   "outputs": [
    {
     "data": {
      "image/png": "[encoded data removed]",
      "text/plain": [
       "<Figure size 432x288 with 1 Axes>"
      ]
     },
     "metadata": {
      "needs_background": "light"
     },
     "output_type": "display_data"
    }
   ],
   "source": [
    "g = sns.kdeplot(data['city_development_index'][(data[\"target\"] == 0) & (data['city_development_index'].notnull())], color=\"Red\", shade = True)\n",
    "g = sns.kdeplot(data['city_development_index'][(data[\"target\"] == 1) & (data['city_development_index'].notnull())], ax =g, color=\"Blue\", shade= True)\n",
    "g.set_xlabel('city_development_index')\n",
    "g.set_ylabel(\"Frequency\")\n",
    "g = g.legend([\"Not looking for job change,\",\"looking for job change,\"])\n"
   ]
  },
  {
   "cell_type": "markdown",
   "id": "1ddd5f58",
   "metadata": {},
   "source": [
    "people looking for job change are majorly populated in the cities with city development index around 0.62 and 0.92"
   ]
  },
  {
   "cell_type": "code",
   "execution_count": 34,
   "id": "8f110d48",
   "metadata": {},
   "outputs": [
    {
     "data": {
      "image/png": "[encoded data removed]",
      "text/plain": [
       "<Figure size 432x288 with 1 Axes>"
      ]
     },
     "metadata": {
      "needs_background": "light"
     },
     "output_type": "display_data"
    }
   ],
   "source": [
    "g = sns.kdeplot(data['training_hours'][(data[\"target\"] == 0) & (data['training_hours'].notnull())], color=\"Red\", shade = True)\n",
    "g = sns.kdeplot(data['training_hours'][(data[\"target\"] == 1) & (data['training_hours'].notnull())], ax =g, color=\"Blue\", shade= True)\n",
    "g.set_xlabel('training_hours')\n",
    "g.set_ylabel(\"Frequency\")\n",
    "g = g.legend([\"Not looking for job change,\",\"looking for job change,\"])\n"
   ]
  },
  {
   "cell_type": "markdown",
   "id": "b78811ca",
   "metadata": {},
   "source": [
    "It shows that entire population goes through training irrespective of job search"
   ]
  },
  {
   "cell_type": "code",
   "execution_count": 35,
   "id": "c2886cf0",
   "metadata": {},
   "outputs": [
    {
     "data": {
      "text/plain": [
       "<AxesSubplot:xlabel='education_level', ylabel='count'>"
      ]
     },
     "execution_count": 35,
     "metadata": {},
     "output_type": "execute_result"
    },
    {
     "data": {
      "image/png": "[encoded data removed]",
      "text/plain": [
       "<Figure size 432x288 with 1 Axes>"
      ]
     },
     "metadata": {
      "needs_background": "light"
     },
     "output_type": "display_data"
    }
   ],
   "source": [
    "sns.countplot(x='education_level',data=data,hue='target')"
   ]
  },
  {
   "cell_type": "markdown",
   "id": "22e7ec26",
   "metadata": {},
   "source": [
    "close to half of the graduates, and 1/3 rd of the people with masters degree are looking for job change;however we also need to consider that data is imbalanced in nature "
   ]
  },
  {
   "cell_type": "code",
   "execution_count": 36,
   "id": "f956a36b",
   "metadata": {},
   "outputs": [
    {
     "data": {
      "text/plain": [
       "<AxesSubplot:>"
      ]
     },
     "execution_count": 36,
     "metadata": {},
     "output_type": "execute_result"
    },
    {
     "data": {
      "image/png": "[encoded data removed]",
      "text/plain": [
       "<Figure size 432x288 with 2 Axes>"
      ]
     },
     "metadata": {
      "needs_background": "light"
     },
     "output_type": "display_data"
    }
   ],
   "source": [
    "sns.heatmap(data.corr(), annot=True)"
   ]
  },
  {
   "cell_type": "markdown",
   "id": "c45b8e0f",
   "metadata": {},
   "source": [
    "#Encoding"
   ]
  },
  {
   "cell_type": "code",
   "execution_count": 37,
   "id": "86914725",
   "metadata": {},
   "outputs": [],
   "source": [
    "#labeling data_test\n",
    "#print(data['gender'].unique())\n",
    "#data['gender']=le.fit_transform(data['gender'])\n",
    "data.loc[data['gender']=='Male','gender']=1\n",
    "data.loc[data['gender']=='Female','gender']=0\n",
    "data.loc[data['gender']=='Other','gender']=2\n",
    "#print(data['gender'].unique())\n",
    "data.loc[data['gender']=='Male','gender']=1\n",
    "data.loc[data['gender']=='Female','gender']=0\n",
    "data.loc[data['gender']=='Other','gender']=2\n",
    "\n",
    "col=['city','relevent_experience']\n",
    "for x in col:\n",
    "    #print(data[x].unique())\n",
    "    le=preprocessing.LabelEncoder()\n",
    "    data[x]=le.fit_transform(data[x])\n",
    "    #print(data[x].unique())\n",
    "\n"
   ]
  },
  {
   "cell_type": "code",
   "execution_count": 38,
   "id": "33f10bc6",
   "metadata": {},
   "outputs": [],
   "source": [
    "#print(data['enrolled_university'].unique())\n",
    "#data['gender']=le.fit_transform(data['gender'])\n",
    "data.loc[data['enrolled_university']=='no_enrollment','enrolled_university']=0\n",
    "data.loc[data['enrolled_university']=='Full time course','enrolled_university']=2\n",
    "data.loc[data['enrolled_university']=='Part time course','enrolled_university']=1\n",
    "#print(data['gender'].unique())"
   ]
  },
  {
   "cell_type": "code",
   "execution_count": 39,
   "id": "eb1d2a10",
   "metadata": {},
   "outputs": [],
   "source": [
    "#print(data['education_level'].unique())\n",
    "data.loc[data['education_level']=='Primary School','education_level']=0\n",
    "data.loc[data['education_level']=='High School','education_level']=1\n",
    "data.loc[data['education_level']=='Graduate','education_level']=2\n",
    "data.loc[data['education_level']=='Masters','education_level']=3\n",
    "data.loc[data['education_level']=='Phd','education_level']=4\n",
    "#print(data['education_level'].unique())"
   ]
  },
  {
   "cell_type": "code",
   "execution_count": 40,
   "id": "0ffa4c90",
   "metadata": {},
   "outputs": [],
   "source": [
    "#print(data['major_discipline'].unique())\n",
    "data.loc[data['major_discipline']=='STEM','major_discipline']=0\n",
    "data.loc[data['major_discipline']=='Business Degree','major_discipline']=1\n",
    "data.loc[data['major_discipline']=='Arts','major_discipline']=2\n",
    "data.loc[data['major_discipline']=='Humanities','major_discipline']=3\n",
    "data.loc[data['major_discipline']=='No Major','major_discipline']=4\n",
    "data.loc[data['major_discipline']=='Other','major_discipline']=5"
   ]
  },
  {
   "cell_type": "code",
   "execution_count": 41,
   "id": "d7b94673",
   "metadata": {},
   "outputs": [],
   "source": [
    "#print(data['company_type'].unique())\n",
    "data.loc[data['company_type']=='Pvt Ltd','company_type']=0\n",
    "data.loc[data['company_type']=='Funded Startup','company_type']=1\n",
    "data.loc[data['company_type']=='Early Stage Startup','company_type']=2\n",
    "data.loc[data['company_type']=='Other','company_type']=3\n",
    "data.loc[data['company_type']=='Public Sector','company_type']=4\n",
    "data.loc[data['company_type']=='NGO','company_type']=5\n",
    "#print(data['company_type'].unique())"
   ]
  },
  {
   "cell_type": "code",
   "execution_count": 42,
   "id": "840c26e7",
   "metadata": {},
   "outputs": [],
   "source": [
    "data.loc[data[\"experience\"] == \">20\", \"experience\"] = 2\n",
    "data.loc[data[\"experience\"] == \"<1\", \"experience\"] = 0\n"
   ]
  },
  {
   "cell_type": "code",
   "execution_count": 43,
   "id": "6dd39753",
   "metadata": {},
   "outputs": [
    {
     "data": {
      "text/plain": [
       "array([0, 1, 2, nan], dtype=object)"
      ]
     },
     "execution_count": 43,
     "metadata": {},
     "output_type": "execute_result"
    }
   ],
   "source": [
    "data.loc[data[\"last_new_job\"].isin ([\"1\", \"2\", \"3\", \"4\"]), \"last_new_job\"] = 0\n",
    "data.loc[data[\"last_new_job\"] == \">4\", \"last_new_job\"] = 1\n",
    "data.loc[data[\"last_new_job\"] == \"never\", \"last_new_job\"] = 2\n",
    "data[\"last_new_job\"].unique()"
   ]
  },
  {
   "cell_type": "code",
   "execution_count": 44,
   "id": "1632bc03",
   "metadata": {},
   "outputs": [],
   "source": [
    "data['company_size'].unique()\n",
    "data.loc[data['company_size'] == '50-99','company_size'] = 0\n",
    "data.loc[data['company_size'] == '<10', 'company_size'] = 1\n",
    "data.loc[data['company_size'] == '10000+', 'company_size'] =2\n",
    "data.loc[data['company_size'] == '5000-9999', 'company_size'] = 3\n",
    "data.loc[data['company_size'] == '1000-4999', 'company_size'] = 4\n",
    "data.loc[data['company_size'] == '10/49', 'company_size'] = 5\n",
    "data.loc[data['company_size'] == '100-500', 'company_size'] = 6\n",
    "data.loc[data['company_size'] == '500-999', 'company_size'] = 7\n",
    "#data['company_size'] = data['company_size'].apply (lambda series: pd.Series (le.fit_transform (series[series.notnull ()]),index=series[series.notnull ()].index))"
   ]
  },
  {
   "cell_type": "code",
   "execution_count": 45,
   "id": "15672f4b",
   "metadata": {},
   "outputs": [
    {
     "data": {
      "text/html": [
       "<div>\n",
       "<style scoped>\n",
       "    .dataframe tbody tr th:only-of-type {\n",
       "        vertical-align: middle;\n",
       "    }\n",
       "\n",
       "    .dataframe tbody tr th {\n",
       "        vertical-align: top;\n",
       "    }\n",
       "\n",
       "    .dataframe thead th {\n",
       "        text-align: right;\n",
       "    }\n",
       "</style>\n",
       "<table border=\"1\" class=\"dataframe\">\n",
       "  <thead>\n",
       "    <tr style=\"text-align: right;\">\n",
       "      <th></th>\n",
       "      <th>enrollee_id</th>\n",
       "      <th>city</th>\n",
       "      <th>city_development_index</th>\n",
       "      <th>gender</th>\n",
       "      <th>relevent_experience</th>\n",
       "      <th>enrolled_university</th>\n",
       "      <th>education_level</th>\n",
       "      <th>major_discipline</th>\n",
       "      <th>experience</th>\n",
       "      <th>company_size</th>\n",
       "      <th>company_type</th>\n",
       "      <th>last_new_job</th>\n",
       "      <th>training_hours</th>\n",
       "      <th>target</th>\n",
       "    </tr>\n",
       "  </thead>\n",
       "  <tbody>\n",
       "    <tr>\n",
       "      <th>0</th>\n",
       "      <td>8949</td>\n",
       "      <td>5</td>\n",
       "      <td>0.920</td>\n",
       "      <td>1</td>\n",
       "      <td>0</td>\n",
       "      <td>0</td>\n",
       "      <td>2</td>\n",
       "      <td>0</td>\n",
       "      <td>2</td>\n",
       "      <td>NaN</td>\n",
       "      <td>NaN</td>\n",
       "      <td>0</td>\n",
       "      <td>36</td>\n",
       "      <td>1.0</td>\n",
       "    </tr>\n",
       "    <tr>\n",
       "      <th>1</th>\n",
       "      <td>29725</td>\n",
       "      <td>77</td>\n",
       "      <td>0.776</td>\n",
       "      <td>1</td>\n",
       "      <td>1</td>\n",
       "      <td>0</td>\n",
       "      <td>2</td>\n",
       "      <td>0</td>\n",
       "      <td>15</td>\n",
       "      <td>0</td>\n",
       "      <td>0</td>\n",
       "      <td>1</td>\n",
       "      <td>47</td>\n",
       "      <td>0.0</td>\n",
       "    </tr>\n",
       "    <tr>\n",
       "      <th>2</th>\n",
       "      <td>11561</td>\n",
       "      <td>64</td>\n",
       "      <td>0.624</td>\n",
       "      <td>NaN</td>\n",
       "      <td>1</td>\n",
       "      <td>2</td>\n",
       "      <td>2</td>\n",
       "      <td>0</td>\n",
       "      <td>5</td>\n",
       "      <td>NaN</td>\n",
       "      <td>NaN</td>\n",
       "      <td>2</td>\n",
       "      <td>83</td>\n",
       "      <td>0.0</td>\n",
       "    </tr>\n",
       "    <tr>\n",
       "      <th>3</th>\n",
       "      <td>33241</td>\n",
       "      <td>14</td>\n",
       "      <td>0.789</td>\n",
       "      <td>NaN</td>\n",
       "      <td>1</td>\n",
       "      <td>NaN</td>\n",
       "      <td>2</td>\n",
       "      <td>1</td>\n",
       "      <td>0</td>\n",
       "      <td>NaN</td>\n",
       "      <td>0</td>\n",
       "      <td>2</td>\n",
       "      <td>52</td>\n",
       "      <td>1.0</td>\n",
       "    </tr>\n",
       "    <tr>\n",
       "      <th>4</th>\n",
       "      <td>666</td>\n",
       "      <td>50</td>\n",
       "      <td>0.767</td>\n",
       "      <td>1</td>\n",
       "      <td>0</td>\n",
       "      <td>0</td>\n",
       "      <td>3</td>\n",
       "      <td>0</td>\n",
       "      <td>2</td>\n",
       "      <td>0</td>\n",
       "      <td>1</td>\n",
       "      <td>0</td>\n",
       "      <td>8</td>\n",
       "      <td>0.0</td>\n",
       "    </tr>\n",
       "  </tbody>\n",
       "</table>\n",
       "</div>"
      ],
      "text/plain": [
       "   enrollee_id  city  city_development_index gender  relevent_experience  \\\n",
       "0         8949     5                   0.920      1                    0   \n",
       "1        29725    77                   0.776      1                    1   \n",
       "2        11561    64                   0.624    NaN                    1   \n",
       "3        33241    14                   0.789    NaN                    1   \n",
       "4          666    50                   0.767      1                    0   \n",
       "\n",
       "  enrolled_university education_level major_discipline experience  \\\n",
       "0                   0               2                0          2   \n",
       "1                   0               2                0         15   \n",
       "2                   2               2                0          5   \n",
       "3                 NaN               2                1          0   \n",
       "4                   0               3                0          2   \n",
       "\n",
       "  company_size company_type last_new_job  training_hours  target  \n",
       "0          NaN          NaN            0              36     1.0  \n",
       "1            0            0            1              47     0.0  \n",
       "2          NaN          NaN            2              83     0.0  \n",
       "3          NaN            0            2              52     1.0  \n",
       "4            0            1            0               8     0.0  "
      ]
     },
     "execution_count": 45,
     "metadata": {},
     "output_type": "execute_result"
    }
   ],
   "source": [
    "data.head() #labelled dataset"
   ]
  },
  {
   "cell_type": "markdown",
   "id": "084d97ec",
   "metadata": {},
   "source": [
    "# Handling null values"
   ]
  },
  {
   "cell_type": "code",
   "execution_count": 46,
   "id": "718c256a",
   "metadata": {},
   "outputs": [
    {
     "data": {
      "text/html": [
       "<div>\n",
       "<style scoped>\n",
       "    .dataframe tbody tr th:only-of-type {\n",
       "        vertical-align: middle;\n",
       "    }\n",
       "\n",
       "    .dataframe tbody tr th {\n",
       "        vertical-align: top;\n",
       "    }\n",
       "\n",
       "    .dataframe thead th {\n",
       "        text-align: right;\n",
       "    }\n",
       "</style>\n",
       "<table border=\"1\" class=\"dataframe\">\n",
       "  <thead>\n",
       "    <tr style=\"text-align: right;\">\n",
       "      <th></th>\n",
       "      <th>enrollee_id</th>\n",
       "      <th>city</th>\n",
       "      <th>city_development_index</th>\n",
       "      <th>gender</th>\n",
       "      <th>relevent_experience</th>\n",
       "      <th>enrolled_university</th>\n",
       "      <th>education_level</th>\n",
       "      <th>major_discipline</th>\n",
       "      <th>experience</th>\n",
       "      <th>company_size</th>\n",
       "      <th>company_type</th>\n",
       "      <th>last_new_job</th>\n",
       "      <th>training_hours</th>\n",
       "      <th>target</th>\n",
       "    </tr>\n",
       "  </thead>\n",
       "  <tbody>\n",
       "    <tr>\n",
       "      <th>0</th>\n",
       "      <td>8949.0</td>\n",
       "      <td>5.0</td>\n",
       "      <td>0.920</td>\n",
       "      <td>1.000000</td>\n",
       "      <td>0.0</td>\n",
       "      <td>0.000000</td>\n",
       "      <td>2.0</td>\n",
       "      <td>0.0</td>\n",
       "      <td>2.0</td>\n",
       "      <td>3.121086</td>\n",
       "      <td>0.538857</td>\n",
       "      <td>0.0</td>\n",
       "      <td>36.0</td>\n",
       "      <td>1.0</td>\n",
       "    </tr>\n",
       "    <tr>\n",
       "      <th>1</th>\n",
       "      <td>29725.0</td>\n",
       "      <td>77.0</td>\n",
       "      <td>0.776</td>\n",
       "      <td>1.000000</td>\n",
       "      <td>1.0</td>\n",
       "      <td>0.000000</td>\n",
       "      <td>2.0</td>\n",
       "      <td>0.0</td>\n",
       "      <td>15.0</td>\n",
       "      <td>0.000000</td>\n",
       "      <td>0.000000</td>\n",
       "      <td>1.0</td>\n",
       "      <td>47.0</td>\n",
       "      <td>0.0</td>\n",
       "    </tr>\n",
       "    <tr>\n",
       "      <th>2</th>\n",
       "      <td>11561.0</td>\n",
       "      <td>64.0</td>\n",
       "      <td>0.624</td>\n",
       "      <td>0.950090</td>\n",
       "      <td>1.0</td>\n",
       "      <td>2.000000</td>\n",
       "      <td>2.0</td>\n",
       "      <td>0.0</td>\n",
       "      <td>5.0</td>\n",
       "      <td>3.122702</td>\n",
       "      <td>1.434604</td>\n",
       "      <td>2.0</td>\n",
       "      <td>83.0</td>\n",
       "      <td>0.0</td>\n",
       "    </tr>\n",
       "    <tr>\n",
       "      <th>3</th>\n",
       "      <td>33241.0</td>\n",
       "      <td>14.0</td>\n",
       "      <td>0.789</td>\n",
       "      <td>0.944701</td>\n",
       "      <td>1.0</td>\n",
       "      <td>0.862274</td>\n",
       "      <td>2.0</td>\n",
       "      <td>1.0</td>\n",
       "      <td>0.0</td>\n",
       "      <td>3.058789</td>\n",
       "      <td>0.000000</td>\n",
       "      <td>2.0</td>\n",
       "      <td>52.0</td>\n",
       "      <td>1.0</td>\n",
       "    </tr>\n",
       "    <tr>\n",
       "      <th>4</th>\n",
       "      <td>666.0</td>\n",
       "      <td>50.0</td>\n",
       "      <td>0.767</td>\n",
       "      <td>1.000000</td>\n",
       "      <td>0.0</td>\n",
       "      <td>0.000000</td>\n",
       "      <td>3.0</td>\n",
       "      <td>0.0</td>\n",
       "      <td>2.0</td>\n",
       "      <td>0.000000</td>\n",
       "      <td>1.000000</td>\n",
       "      <td>0.0</td>\n",
       "      <td>8.0</td>\n",
       "      <td>0.0</td>\n",
       "    </tr>\n",
       "  </tbody>\n",
       "</table>\n",
       "</div>"
      ],
      "text/plain": [
       "   enrollee_id  city  city_development_index    gender  relevent_experience  \\\n",
       "0       8949.0   5.0                   0.920  1.000000                  0.0   \n",
       "1      29725.0  77.0                   0.776  1.000000                  1.0   \n",
       "2      11561.0  64.0                   0.624  0.950090                  1.0   \n",
       "3      33241.0  14.0                   0.789  0.944701                  1.0   \n",
       "4        666.0  50.0                   0.767  1.000000                  0.0   \n",
       "\n",
       "   enrolled_university  education_level  major_discipline  experience  \\\n",
       "0             0.000000              2.0               0.0         2.0   \n",
       "1             0.000000              2.0               0.0        15.0   \n",
       "2             2.000000              2.0               0.0         5.0   \n",
       "3             0.862274              2.0               1.0         0.0   \n",
       "4             0.000000              3.0               0.0         2.0   \n",
       "\n",
       "   company_size  company_type  last_new_job  training_hours  target  \n",
       "0      3.121086      0.538857           0.0            36.0     1.0  \n",
       "1      0.000000      0.000000           1.0            47.0     0.0  \n",
       "2      3.122702      1.434604           2.0            83.0     0.0  \n",
       "3      3.058789      0.000000           2.0            52.0     1.0  \n",
       "4      0.000000      1.000000           0.0             8.0     0.0  "
      ]
     },
     "execution_count": 46,
     "metadata": {},
     "output_type": "execute_result"
    }
   ],
   "source": [
    "lr = LinearRegression()\n",
    "mice_imputer = IterativeImputer(random_state=42, estimator=lr, max_iter=10, n_nearest_features=2, imputation_order = 'roman')\n",
    "data_imputed = mice_imputer.fit_transform(data)\n",
    "data_impute=pd.DataFrame(data_imputed)\n",
    "data_impute.columns = ['enrollee_id','city','city_development_index','gender', 'relevent_experience', 'enrolled_university', 'education_level', 'major_discipline',\n",
    "                                                         'experience', 'company_size', 'company_type', 'last_new_job', 'training_hours', 'target']\n",
    "                                                        \n",
    "data_impute.head()\n",
    "#enrollee_id\tcity\tcity_development_index\tgender\trelevent_experience\tenrolled_university\teducation_level\tmajor_discipline\texperience\tcompany_size\tcompany_type\tlast_new_job\ttraining_hours\ttarget"
   ]
  },
  {
   "cell_type": "code",
   "execution_count": 47,
   "id": "313f8b60",
   "metadata": {},
   "outputs": [
    {
     "data": {
      "text/plain": [
       "0        1\n",
       "1        0\n",
       "2        0\n",
       "3        1\n",
       "4        0\n",
       "        ..\n",
       "19153    1\n",
       "19154    1\n",
       "19155    0\n",
       "19156    0\n",
       "19157    0\n",
       "Name: target, Length: 19158, dtype: int32"
      ]
     },
     "execution_count": 47,
     "metadata": {},
     "output_type": "execute_result"
    }
   ],
   "source": [
    "data_impute.isnull().any()\n",
    "data['target'].astype(int)"
   ]
  },
  {
   "cell_type": "code",
   "execution_count": 48,
   "id": "15e4bbfb",
   "metadata": {},
   "outputs": [],
   "source": [
    "x=data_impute.drop('target',axis=1)\n",
    "y=data_impute['target']"
   ]
  },
  {
   "cell_type": "markdown",
   "id": "b3ea88fd",
   "metadata": {},
   "source": [
    "Splitting the data into train and test"
   ]
  },
  {
   "cell_type": "code",
   "execution_count": 49,
   "id": "08435010",
   "metadata": {},
   "outputs": [],
   "source": [
    "x_train,x_test,y_train,y_test=train_test_split(x,y,test_size=0.30,random_state=42)"
   ]
  },
  {
   "cell_type": "markdown",
   "id": "c91e32f6",
   "metadata": {},
   "source": [
    "Model Building:\n",
    "1.Logistic regression\n",
    "2.K-nearest neighbours\n",
    "3.Naive Bias\n",
    "4.SVM\n",
    "5.LGBM classifier"
   ]
  },
  {
   "cell_type": "code",
   "execution_count": 50,
   "id": "e33a73db",
   "metadata": {
    "scrolled": true
   },
   "outputs": [
    {
     "name": "stdout",
     "output_type": "stream",
     "text": [
      "Training Accuracy: 75.17524235645041\n",
      "Testing Accuracy: 74.80862908837857\n",
      "              precision    recall  f1-score   support\n",
      "\n",
      "         0.0       0.75      1.00      0.86      4300\n",
      "         1.0       0.00      0.00      0.00      1448\n",
      "\n",
      "    accuracy                           0.75      5748\n",
      "   macro avg       0.37      0.50      0.43      5748\n",
      "weighted avg       0.56      0.75      0.64      5748\n",
      "\n"
     ]
    },
    {
     "name": "stderr",
     "output_type": "stream",
     "text": [
      "C:\\ProgramData\\Anaconda3\\lib\\site-packages\\sklearn\\metrics\\_classification.py:1245: UndefinedMetricWarning: Precision and F-score are ill-defined and being set to 0.0 in labels with no predicted samples. Use `zero_division` parameter to control this behavior.\n",
      "  _warn_prf(average, modifier, msg_start, len(result))\n",
      "C:\\ProgramData\\Anaconda3\\lib\\site-packages\\sklearn\\metrics\\_classification.py:1245: UndefinedMetricWarning: Precision and F-score are ill-defined and being set to 0.0 in labels with no predicted samples. Use `zero_division` parameter to control this behavior.\n",
      "  _warn_prf(average, modifier, msg_start, len(result))\n",
      "C:\\ProgramData\\Anaconda3\\lib\\site-packages\\sklearn\\metrics\\_classification.py:1245: UndefinedMetricWarning: Precision and F-score are ill-defined and being set to 0.0 in labels with no predicted samples. Use `zero_division` parameter to control this behavior.\n",
      "  _warn_prf(average, modifier, msg_start, len(result))\n"
     ]
    }
   ],
   "source": [
    "from sklearn.linear_model import LogisticRegression\n",
    "from sklearn.metrics import classification_report\n",
    "logr=LogisticRegression()\n",
    "logr.fit(x_train,y_train)\n",
    "pred=logr.predict(x_test)\n",
    "print('Training Accuracy:',logr.score(x_train,y_train)*100)\n",
    "print('Testing Accuracy:',logr.score(x_test,y_test)*100)\n",
    "print(classification_report(y_test, pred))"
   ]
  },
  {
   "cell_type": "code",
   "execution_count": 51,
   "id": "993e0022",
   "metadata": {},
   "outputs": [
    {
     "name": "stdout",
     "output_type": "stream",
     "text": [
      "Training Accuracy KNN: 82.73676360924684\n",
      "Testing Accuracy KNN: 82.73676360924684\n",
      "              precision    recall  f1-score   support\n",
      "\n",
      "         0.0       0.76      0.84      0.80      4300\n",
      "         1.0       0.30      0.21      0.25      1448\n",
      "\n",
      "    accuracy                           0.68      5748\n",
      "   macro avg       0.53      0.52      0.52      5748\n",
      "weighted avg       0.64      0.68      0.66      5748\n",
      "\n"
     ]
    }
   ],
   "source": [
    "from sklearn.neighbors import KNeighborsClassifier\n",
    "from sklearn.metrics import classification_report\n",
    "knn=KNeighborsClassifier(n_neighbors=3)\n",
    "knn.fit(x_train,y_train)\n",
    "pred=knn.predict(x_test)\n",
    "print('Training Accuracy KNN:',knn.score(x_train,y_train)*100)\n",
    "print('Testing Accuracy KNN:',knn.score(x_train,y_train)*100)\n",
    "print(classification_report(y_test, pred))"
   ]
  },
  {
   "cell_type": "code",
   "execution_count": 52,
   "id": "f60a0b97",
   "metadata": {},
   "outputs": [
    {
     "name": "stdout",
     "output_type": "stream",
     "text": [
      "Training Accuracy NB: 74.19835943325876\n",
      "Testing Accuracy NB: 74.19835943325876\n",
      "              precision    recall  f1-score   support\n",
      "\n",
      "         0.0       0.76      0.84      0.80      4300\n",
      "         1.0       0.30      0.21      0.25      1448\n",
      "\n",
      "    accuracy                           0.68      5748\n",
      "   macro avg       0.53      0.52      0.52      5748\n",
      "weighted avg       0.64      0.68      0.66      5748\n",
      "\n"
     ]
    }
   ],
   "source": [
    "from sklearn.naive_bayes import GaussianNB\n",
    "gnb = GaussianNB()\n",
    "gnb.fit(x_train, y_train)\n",
    "print('Training Accuracy NB:',gnb.score(x_train,y_train)*100)\n",
    "print('Testing Accuracy NB:',gnb.score(x_train,y_train)*100)\n",
    "from sklearn.metrics import classification_report\n",
    "print(classification_report(y_test, pred))"
   ]
  },
  {
   "cell_type": "code",
   "execution_count": 53,
   "id": "00e0ef75",
   "metadata": {},
   "outputs": [
    {
     "name": "stdout",
     "output_type": "stream",
     "text": [
      "Training Accuracy SVM: 75.17524235645041\n",
      "Testing Accuracy SVM: 75.17524235645041\n"
     ]
    }
   ],
   "source": [
    "from sklearn.svm import SVC\n",
    "svm = SVC()\n",
    "svm.fit(x_train, y_train)\n",
    "print('Training Accuracy SVM:',svm.score(x_train,y_train)*100)\n",
    "print('Testing Accuracy SVM:',svm.score(x_train,y_train)*100)"
   ]
  },
  {
   "cell_type": "code",
   "execution_count": 54,
   "id": "e65ee5d8",
   "metadata": {},
   "outputs": [
    {
     "name": "stdout",
     "output_type": "stream",
     "text": [
      "Training Accuracy LGBM: 86.04026845637584\n",
      "Testing Accuracy LGBM: 86.04026845637584\n",
      "              precision    recall  f1-score   support\n",
      "\n",
      "         0.0       0.85      0.87      0.86      4300\n",
      "         1.0       0.59      0.55      0.57      1448\n",
      "\n",
      "    accuracy                           0.79      5748\n",
      "   macro avg       0.72      0.71      0.71      5748\n",
      "weighted avg       0.78      0.79      0.79      5748\n",
      "\n"
     ]
    }
   ],
   "source": [
    "from lightgbm import LGBMClassifier\n",
    "lgbm = LGBMClassifier (random_state=17)\n",
    "#lgbm_model = lgbm.fit (X_train, y_train)\n",
    "lgbm.fit(x_train,y_train)\n",
    "pred_lgbm=lgbm.predict(x_test)\n",
    "print('Training Accuracy LGBM:',lgbm.score(x_train,y_train)*100)\n",
    "print('Testing Accuracy LGBM:',lgbm.score(x_train,y_train)*100)\n",
    "from sklearn.metrics import classification_report\n",
    "print(classification_report(y_test, pred_lgbm))"
   ]
  },
  {
   "cell_type": "markdown",
   "id": "0a250ee0",
   "metadata": {},
   "source": [
    "It shows that LGBM classifier shows better accuracy score among all followed by KNN"
   ]
  },
  {
   "cell_type": "markdown",
   "id": "263b3a3d",
   "metadata": {},
   "source": [
    "Lets perform smote to handle data imbalance "
   ]
  },
  {
   "cell_type": "code",
   "execution_count": 55,
   "id": "d87866b5",
   "metadata": {},
   "outputs": [],
   "source": [
    "#!pip install imblearn\n",
    "from imblearn.over_sampling import SVMSMOTE\n",
    "svm_smote = SVMSMOTE(sampling_strategy='minority', random_state=42, k_neighbors=3)\n",
    "x_smote, y_smote = svm_smote.fit_resample(x,y)\n",
    "x_train_smote, x_test_smote, y_train_smote, y_test_smote = train_test_split(x_smote,y_smote, test_size=0.25, random_state=42)"
   ]
  },
  {
   "cell_type": "code",
   "execution_count": 56,
   "id": "957dfef4",
   "metadata": {},
   "outputs": [
    {
     "name": "stdout",
     "output_type": "stream",
     "text": [
      "Training Accuracy LGBM: 89.04084187103055\n",
      "Testing Accuracy LGBM: 89.04084187103055\n",
      "              precision    recall  f1-score   support\n",
      "\n",
      "         0.0       0.86      0.87      0.86      3603\n",
      "         1.0       0.87      0.86      0.86      3588\n",
      "\n",
      "    accuracy                           0.86      7191\n",
      "   macro avg       0.86      0.86      0.86      7191\n",
      "weighted avg       0.86      0.86      0.86      7191\n",
      "\n",
      "auc score : 0.8621740337158648\n"
     ]
    },
    {
     "data": {
      "image/png": "[encoded data removed]",
      "text/plain": [
       "<Figure size 432x288 with 1 Axes>"
      ]
     },
     "metadata": {
      "needs_background": "light"
     },
     "output_type": "display_data"
    }
   ],
   "source": [
    "lgbm.fit(x_train_smote,y_train_smote)\n",
    "pred_lgbm_smote=lgbm.predict(x_test_smote)\n",
    "print('Training Accuracy LGBM:',lgbm.score(x_train_smote,y_train_smote)*100)\n",
    "print('Testing Accuracy LGBM:',lgbm.score(x_train_smote,y_train_smote)*100)\n",
    "from sklearn.metrics import classification_report\n",
    "print(classification_report(y_test_smote, pred_lgbm_smote))\n",
    "from sklearn.metrics import roc_curve,roc_auc_score,auc\n",
    "a,b,c=roc_curve(y_test_smote, pred_lgbm_smote)\n",
    "plt.plot([0,1])\n",
    "plt.plot(a,b)\n",
    "print(\"auc score :\",auc(a,b))"
   ]
  },
  {
   "cell_type": "code",
   "execution_count": 57,
   "id": "8853d4ea",
   "metadata": {},
   "outputs": [
    {
     "name": "stdout",
     "output_type": "stream",
     "text": [
      "Training Accuracy knn: 87.16795697927773\n",
      "Testing Accuracy knn: 87.16795697927773\n",
      "              precision    recall  f1-score   support\n",
      "\n",
      "         0.0       0.80      0.68      0.73      3603\n",
      "         1.0       0.72      0.83      0.77      3588\n",
      "\n",
      "    accuracy                           0.75      7191\n",
      "   macro avg       0.76      0.75      0.75      7191\n",
      "weighted avg       0.76      0.75      0.75      7191\n",
      "\n",
      "auc score : 0.7526262488431695\n"
     ]
    },
    {
     "data": {
      "image/png": "[encoded data removed]",
      "text/plain": [
       "<Figure size 432x288 with 1 Axes>"
      ]
     },
     "metadata": {
      "needs_background": "light"
     },
     "output_type": "display_data"
    }
   ],
   "source": [
    "knn=KNeighborsClassifier(n_neighbors=3)\n",
    "knn.fit(x_train_smote,y_train_smote)\n",
    "pred_knn_smote=knn.predict(x_test_smote)\n",
    "print('Training Accuracy knn:',knn.score(x_train_smote,y_train_smote)*100)\n",
    "print('Testing Accuracy knn:',knn.score(x_train_smote,y_train_smote)*100)\n",
    "from sklearn.metrics import classification_report\n",
    "print(classification_report(y_test_smote, pred_knn_smote))\n",
    "from sklearn.metrics import roc_curve,roc_auc_score,auc\n",
    "a,b,c=roc_curve(y_test_smote, pred_knn_smote)\n",
    "plt.plot([0,1])\n",
    "plt.plot(a,b)\n",
    "print(\"auc score :\",auc(a,b))"
   ]
  },
  {
   "cell_type": "markdown",
   "id": "5a5f6e7b",
   "metadata": {},
   "source": [
    "It shows that LGBM classifier is the best fit with accuracy score 89% and moderate precision and recall with implementation of smote"
   ]
  }
 ],
 "metadata": {
  "kernelspec": {
   "display_name": "Python 3",
   "language": "python",
   "name": "python3"
  },
  "language_info": {
   "codemirror_mode": {
    "name": "ipython",
    "version": 3
   },
   "file_extension": ".py",
   "mimetype": "text/x-python",
   "name": "python",
   "nbconvert_exporter": "python",
   "pygments_lexer": "ipython3",
   "version": "3.8.8"
  }
 },
 "nbformat": 4,
 "nbformat_minor": 5
}
